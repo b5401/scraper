{
 "cells": [
  {
   "cell_type": "code",
   "execution_count": 2,
   "id": "6b48bee6",
   "metadata": {},
   "outputs": [
    {
     "name": "stderr",
     "output_type": "stream",
     "text": [
      "25/06/29 20:46:11 WARN Utils: Your hostname, npcserver-PC22 resolves to a loopback address: 127.0.1.1; using 192.168.0.16 instead (on interface wlo1)\n",
      "25/06/29 20:46:11 WARN Utils: Set SPARK_LOCAL_IP if you need to bind to another address\n",
      "Setting default log level to \"WARN\".\n",
      "To adjust logging level use sc.setLogLevel(newLevel). For SparkR, use setLogLevel(newLevel).\n",
      "25/06/29 20:46:12 WARN NativeCodeLoader: Unable to load native-hadoop library for your platform... using builtin-java classes where applicable\n"
     ]
    }
   ],
   "source": [
    "from pyspark.sql import SparkSession\n",
    "from pyspark.sql import functions as F\n",
    "import pandas as pd\n",
    "from datetime import datetime\n",
    "\n",
    "# старт спарк-сессии\n",
    "spark = SparkSession.builder \\\n",
    "    .appName(\"TestApp\") \\\n",
    "    .getOrCreate()"
   ]
  },
  {
   "cell_type": "code",
   "execution_count": 18,
   "id": "0102a7b0",
   "metadata": {},
   "outputs": [
    {
     "name": "stdout",
     "output_type": "stream",
     "text": [
      "Результат сохранён в: ./merged_cafe_data.csv\n"
     ]
    }
   ],
   "source": [
    "# Путь к файлам\n",
    "input_path = \"./output_raw.csv\"\n",
    "second_input_path = \"./output_raw_new.csv\"\n",
    "output_path = \"./merged_cafe_data.csv\"\n",
    "\n",
    "df1 = spark.read.csv(input_path, header=True, inferSchema=True)\n",
    "df2 = spark.read.csv(second_input_path, header=True, inferSchema=True)\n",
    "\n",
    "# 1. Найти пересечение колонок\n",
    "common_columns = ('name','address','rating','avg_price','reviews_count','link','lat','lon','category','insert_date')\n",
    "\n",
    "# 2. Оставить только общие колонки в обоих датафреймах\n",
    "df1_filtered = df1.select(*common_columns)\n",
    "df2_filtered = df2.select(*common_columns)\n",
    "\n",
    "# 3. Выполнить объединение\n",
    "result = df1_filtered.unionByName(df2_filtered)\\\n",
    "        .withColumn('rating', F.regexp_replace('rating', ',', '.'))\\\n",
    "        .distinct()\n",
    "\n",
    "# Убираем дубликаты и сохраняем результат в итоговый CSV-файл\n",
    "result.toPandas().drop_duplicates(subset=['name', 'address']).to_csv(output_path, index=False, sep=';')\n",
    "\n",
    "print(f\"Результат сохранён в: {output_path}\")\n"
   ]
  },
  {
   "cell_type": "code",
   "execution_count": 20,
   "id": "e5f9b045",
   "metadata": {},
   "outputs": [
    {
     "data": {
      "text/plain": [
       "11"
      ]
     },
     "execution_count": 20,
     "metadata": {},
     "output_type": "execute_result"
    }
   ],
   "source": [
    "result.where(F.col('name').contains('Pims')).count()"
   ]
  },
  {
   "cell_type": "code",
   "execution_count": 22,
   "id": "7d2490fd",
   "metadata": {},
   "outputs": [
    {
     "data": {
      "text/plain": [
       "22861"
      ]
     },
     "execution_count": 22,
     "metadata": {},
     "output_type": "execute_result"
    }
   ],
   "source": [
    "result.distinct().count()"
   ]
  },
  {
   "cell_type": "code",
   "execution_count": 6,
   "id": "d5a7fcdd",
   "metadata": {},
   "outputs": [
    {
     "name": "stdout",
     "output_type": "stream",
     "text": [
      "+--------------------+--------------------+------+---------+-------------+--------------------+---------+---------+----------+-----------+\n",
      "|                name|             address|rating|avg_price|reviews_count|                link|      lat|      lon|  category|insert_date|\n",
      "+--------------------+--------------------+------+---------+-------------+--------------------+---------+---------+----------+-----------+\n",
      "|             Чито-Ра|      Лесная ул., 30|   4,7|     1350|         NULL|https://yandex.ru...|55.783474|37.596318|moscow_cao| 2025-06-18|\n",
      "|              Пражка|Воронцовская ул.,...|   4,4|     1500|       5183.0|https://yandex.ru...|55.733954|37.662996|moscow_cao| 2025-06-18|\n",
      "|           Кофемания|Садовническая ул....|   4,6|     NULL|       2619.0|https://yandex.ru...|55.734674|37.642727|moscow_cao| 2025-06-18|\n",
      "|              Boston|       Лесная ул., 7|   5,0|     2250|         NULL|https://yandex.ru...|55.778629|37.587275|moscow_cao| 2025-06-18|\n",
      "|         Высота 5642|Большой Черкасски...|   4,8|     3000|       3659.0|https://yandex.ru...| 55.75595|37.627593|moscow_cao| 2025-06-18|\n",
      "|              Тануки|Большой Златоусти...|   4,6|     1250|         NULL|https://yandex.ru...|55.759743|37.631658|moscow_cao| 2025-06-18|\n",
      "|              Корчма|Смоленский бул., ...|   4,6|     1000|         NULL|https://yandex.ru...|55.741145|37.585443|moscow_cao| 2025-06-18|\n",
      "|            PaPaella|Банковский пер., 2/5|   4,7|     2000|         NULL|https://yandex.ru...|55.762099|37.635026|moscow_cao| 2025-06-18|\n",
      "|              Корчма|Моховая ул., 8, с...|   4,6|     1000|         NULL|https://yandex.ru...|55.750647|37.610034|moscow_cao| 2025-06-18|\n",
      "|             Горыныч|Рождественский бу...|   4,9|     2750|         NULL|https://yandex.ru...|55.766673|37.624421|moscow_cao| 2025-06-18|\n",
      "|           Сыроварня|Кутузовский просп...|   4,9|     NULL|         NULL|https://yandex.ru...|55.728458|37.477137|moscow_cao| 2025-06-18|\n",
      "|Touch Chef’s plac...|Садовническая наб...|   4,8|     NULL|         NULL|https://yandex.ru...|55.746466|37.628276|moscow_cao| 2025-06-18|\n",
      "|         We Cidreria|Лубянский пр., 15...|   5,0|     1550|         NULL|https://yandex.ru...|55.756538|37.632592|moscow_cao| 2025-06-18|\n",
      "|       Nicepricecafe|Пятницкая ул., 54...|   4,6|     1000|       9694.0|https://yandex.ru...| 55.73387|37.627449|moscow_cao| 2025-06-18|\n",
      "|        Bon App Cafe|Никольская ул., 2...|   4,5|     1250|         NULL|https://yandex.ru...|55.759267|37.625101|moscow_cao| 2025-06-18|\n",
      "|               Савва|  Театральный пр., 2|   5,0|     4250|         NULL|https://yandex.ru...|  55.7584|37.620923|moscow_cao| 2025-06-18|\n",
      "|        Вокруг света|  Никольская ул., 10|   4,7|      600|      15101.0|https://yandex.ru...|55.758007|37.624243|moscow_cao| 2025-06-18|\n",
      "|       Osteria Mario|Москва, Манежная ...|   4,7|     1650|         NULL|https://yandex.ru...|55.756106|37.616017|moscow_cao| 2025-06-18|\n",
      "|                Буше|Театральный пр., ...|   4,7|      450|       1339.0|https://yandex.ru...| 55.76014|37.624965|moscow_cao| 2025-06-18|\n",
      "|              Бардак|ул. Маросейка, 6-8с1|   4,8|     1750|         NULL|https://yandex.ru...|55.757328| 37.63437|moscow_cao| 2025-06-18|\n",
      "+--------------------+--------------------+------+---------+-------------+--------------------+---------+---------+----------+-----------+\n",
      "only showing top 20 rows\n",
      "\n"
     ]
    }
   ],
   "source": [
    "df1_filtered.show()"
   ]
  },
  {
   "cell_type": "code",
   "execution_count": 17,
   "id": "05d03d58",
   "metadata": {},
   "outputs": [
    {
     "name": "stdout",
     "output_type": "stream",
     "text": [
      "+-----+--------------------+------+---------+-------------+--------------------+---------+---------+--------------------+--------------------+-----------+\n",
      "| name|             address|rating|avg_price|reviews_count|                link|    phone|      lat|                 lon|            category|insert_date|\n",
      "+-----+--------------------+------+---------+-------------+--------------------+---------+---------+--------------------+--------------------+-----------+\n",
      "|Галки|Страстной бул., 4...|   4,9|     NULL|         NULL|https://yandex.ru...|     NULL|55.764844|           37.608719|moscow_tsao_kitay...| 2025-06-22|\n",
      "|Галки|Страстной бул., 4...|   4,9|     NULL|         NULL|https://yandex.ru...|     NULL|55.764844|           37.608719|moscow_tsao_kitay...| 2025-06-23|\n",
      "|Галки|Страстной бул., 4...|   4,9|     1400|         NULL|https://yandex.ru...|55.764844|37.608719|moscow_svao_maryi...|          2025-06-28|       NULL|\n",
      "+-----+--------------------+------+---------+-------------+--------------------+---------+---------+--------------------+--------------------+-----------+\n",
      "\n"
     ]
    }
   ],
   "source": [
    "df2.where(F.col('name') == 'Галки').show()"
   ]
  },
  {
   "cell_type": "code",
   "execution_count": 6,
   "id": "c5ffcc02",
   "metadata": {},
   "outputs": [],
   "source": [
    "# Путь к файлам\n",
    "input_path = \"./output_raw.csv\"\n",
    "output_path = \"./merged_cafe_data.csv\"\n",
    "\n",
    "df = spark.read.csv(output_path, header=True, inferSchema=True)"
   ]
  },
  {
   "cell_type": "code",
   "execution_count": 4,
   "id": "39372b20",
   "metadata": {},
   "outputs": [
    {
     "data": {
      "text/plain": [
       "('кафе Якиманка район', 'moscow_tsao_yakimanka')"
      ]
     },
     "execution_count": 4,
     "metadata": {},
     "output_type": "execute_result"
    }
   ],
   "source": [
    "        # (\"кафе Арбат район\", \"moscow_tsao_arbat\"),\n",
    "        # (\"кафе Басманный район\", \"moscow_tsao_basmanniy\"),\n",
    "        # (\"кафе Замоскворечье район\", \"moscow_tsao_zamoskvorechye\"),\n",
    "        (\"кафе Китай-город район\", \"moscow_tsao_kitay_gorod\"),\n",
    "        (\"кафе Мещанский район\", \"moscow_tsao_moschanskiy\"),\n",
    "        (\"кафе Пресненский район\", \"moscow_tsao_presnenskiy\"),\n",
    "        (\"кафе Таганский район\", \"moscow_tsao_taganskiy\"),\n",
    "        (\"кафе Тверской район\", \"moscow_tsao_tverskoy\"),\n",
    "        (\"кафе Хамовники район\", \"moscow_tsao_khamovniki\"),\n",
    "        (\"кафе Якиманка район\", \"moscow_tsao_yakimanka\")"
   ]
  },
  {
   "cell_type": "code",
   "execution_count": null,
   "id": "e2a0d1b6",
   "metadata": {},
   "outputs": [
    {
     "data": {
      "text/plain": [
       "2519"
      ]
     },
     "execution_count": 14,
     "metadata": {},
     "output_type": "execute_result"
    }
   ],
   "source": [
    "df.where(F.col('rating') >= '4,5').count()"
   ]
  }
 ],
 "metadata": {
  "kernelspec": {
   "display_name": "Python 3",
   "language": "python",
   "name": "python3"
  },
  "language_info": {
   "codemirror_mode": {
    "name": "ipython",
    "version": 3
   },
   "file_extension": ".py",
   "mimetype": "text/x-python",
   "name": "python",
   "nbconvert_exporter": "python",
   "pygments_lexer": "ipython3",
   "version": "3.10.12"
  }
 },
 "nbformat": 4,
 "nbformat_minor": 5
}
